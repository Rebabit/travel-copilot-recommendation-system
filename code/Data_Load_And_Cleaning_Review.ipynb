{
 "cells": [
  {
   "cell_type": "markdown",
   "id": "6514e71a",
   "metadata": {},
   "source": [
    "# Import Stataments"
   ]
  },
  {
   "cell_type": "code",
   "execution_count": 1,
   "id": "9416cd30",
   "metadata": {},
   "outputs": [],
   "source": [
    "#Basic Import Statements\n",
    "import pandas as pd\n",
    "import numpy as np\n",
    "import json\n",
    "\n",
    "#Plot Import Statements\n",
    "import seaborn as sns\n",
    "import matplotlib.pyplot as plt\n",
    "\n",
    "#To Ignore Warnings in Output\n",
    "import warnings\n",
    "warnings.filterwarnings('ignore')"
   ]
  },
  {
   "cell_type": "markdown",
   "id": "ad5b8a64",
   "metadata": {},
   "source": [
    "## Converting Review Json file to Dataframe"
   ]
  },
  {
   "cell_type": "markdown",
   "id": "9e96fbf6",
   "metadata": {},
   "source": [
    "###### Review file"
   ]
  },
  {
   "cell_type": "code",
   "execution_count": 2,
   "id": "2db99a8b",
   "metadata": {},
   "outputs": [],
   "source": [
    "#since pd.readjson will cause memeory error, we read the file line by line\n",
    "path = '../yelp_dataset/yelp_academic_dataset_review.json'\n",
    "review = []\n",
    "with open(path, encoding = 'utf-8') as fin:\n",
    "    for line in fin:\n",
    "        line_contents = json.loads(line)\n",
    "        review.append(line_contents)"
   ]
  },
  {
   "cell_type": "code",
   "execution_count": 3,
   "id": "8941dcc9",
   "metadata": {},
   "outputs": [
    {
     "data": {
      "text/plain": [
       "(6990280, 9)"
      ]
     },
     "execution_count": 3,
     "metadata": {},
     "output_type": "execute_result"
    }
   ],
   "source": [
    "review = pd.DataFrame(review)\n",
    "review.shape"
   ]
  },
  {
   "cell_type": "code",
   "execution_count": 4,
   "id": "fbd354c2",
   "metadata": {},
   "outputs": [
    {
     "data": {
      "text/html": [
       "<div>\n",
       "<style scoped>\n",
       "    .dataframe tbody tr th:only-of-type {\n",
       "        vertical-align: middle;\n",
       "    }\n",
       "\n",
       "    .dataframe tbody tr th {\n",
       "        vertical-align: top;\n",
       "    }\n",
       "\n",
       "    .dataframe thead th {\n",
       "        text-align: right;\n",
       "    }\n",
       "</style>\n",
       "<table border=\"1\" class=\"dataframe\">\n",
       "  <thead>\n",
       "    <tr style=\"text-align: right;\">\n",
       "      <th></th>\n",
       "      <th>review_id</th>\n",
       "      <th>user_id</th>\n",
       "      <th>business_id</th>\n",
       "      <th>stars</th>\n",
       "      <th>useful</th>\n",
       "      <th>funny</th>\n",
       "      <th>cool</th>\n",
       "      <th>text</th>\n",
       "      <th>date</th>\n",
       "    </tr>\n",
       "  </thead>\n",
       "  <tbody>\n",
       "    <tr>\n",
       "      <th>0</th>\n",
       "      <td>KU_O5udG6zpxOg-VcAEodg</td>\n",
       "      <td>mh_-eMZ6K5RLWhZyISBhwA</td>\n",
       "      <td>XQfwVwDr-v0ZS3_CbbE5Xw</td>\n",
       "      <td>3.0</td>\n",
       "      <td>0</td>\n",
       "      <td>0</td>\n",
       "      <td>0</td>\n",
       "      <td>If you decide to eat here, just be aware it is...</td>\n",
       "      <td>2018-07-07 22:09:11</td>\n",
       "    </tr>\n",
       "    <tr>\n",
       "      <th>1</th>\n",
       "      <td>BiTunyQ73aT9WBnpR9DZGw</td>\n",
       "      <td>OyoGAe7OKpv6SyGZT5g77Q</td>\n",
       "      <td>7ATYjTIgM3jUlt4UM3IypQ</td>\n",
       "      <td>5.0</td>\n",
       "      <td>1</td>\n",
       "      <td>0</td>\n",
       "      <td>1</td>\n",
       "      <td>I've taken a lot of spin classes over the year...</td>\n",
       "      <td>2012-01-03 15:28:18</td>\n",
       "    </tr>\n",
       "    <tr>\n",
       "      <th>2</th>\n",
       "      <td>saUsX_uimxRlCVr67Z4Jig</td>\n",
       "      <td>8g_iMtfSiwikVnbP2etR0A</td>\n",
       "      <td>YjUWPpI6HXG530lwP-fb2A</td>\n",
       "      <td>3.0</td>\n",
       "      <td>0</td>\n",
       "      <td>0</td>\n",
       "      <td>0</td>\n",
       "      <td>Family diner. Had the buffet. Eclectic assortm...</td>\n",
       "      <td>2014-02-05 20:30:30</td>\n",
       "    </tr>\n",
       "    <tr>\n",
       "      <th>3</th>\n",
       "      <td>AqPFMleE6RsU23_auESxiA</td>\n",
       "      <td>_7bHUi9Uuf5__HHc_Q8guQ</td>\n",
       "      <td>kxX2SOes4o-D3ZQBkiMRfA</td>\n",
       "      <td>5.0</td>\n",
       "      <td>1</td>\n",
       "      <td>0</td>\n",
       "      <td>1</td>\n",
       "      <td>Wow!  Yummy, different,  delicious.   Our favo...</td>\n",
       "      <td>2015-01-04 00:01:03</td>\n",
       "    </tr>\n",
       "    <tr>\n",
       "      <th>4</th>\n",
       "      <td>Sx8TMOWLNuJBWer-0pcmoA</td>\n",
       "      <td>bcjbaE6dDog4jkNY91ncLQ</td>\n",
       "      <td>e4Vwtrqf-wpJfwesgvdgxQ</td>\n",
       "      <td>4.0</td>\n",
       "      <td>1</td>\n",
       "      <td>0</td>\n",
       "      <td>1</td>\n",
       "      <td>Cute interior and owner (?) gave us tour of up...</td>\n",
       "      <td>2017-01-14 20:54:15</td>\n",
       "    </tr>\n",
       "  </tbody>\n",
       "</table>\n",
       "</div>"
      ],
      "text/plain": [
       "                review_id                 user_id             business_id  \\\n",
       "0  KU_O5udG6zpxOg-VcAEodg  mh_-eMZ6K5RLWhZyISBhwA  XQfwVwDr-v0ZS3_CbbE5Xw   \n",
       "1  BiTunyQ73aT9WBnpR9DZGw  OyoGAe7OKpv6SyGZT5g77Q  7ATYjTIgM3jUlt4UM3IypQ   \n",
       "2  saUsX_uimxRlCVr67Z4Jig  8g_iMtfSiwikVnbP2etR0A  YjUWPpI6HXG530lwP-fb2A   \n",
       "3  AqPFMleE6RsU23_auESxiA  _7bHUi9Uuf5__HHc_Q8guQ  kxX2SOes4o-D3ZQBkiMRfA   \n",
       "4  Sx8TMOWLNuJBWer-0pcmoA  bcjbaE6dDog4jkNY91ncLQ  e4Vwtrqf-wpJfwesgvdgxQ   \n",
       "\n",
       "   stars  useful  funny  cool  \\\n",
       "0    3.0       0      0     0   \n",
       "1    5.0       1      0     1   \n",
       "2    3.0       0      0     0   \n",
       "3    5.0       1      0     1   \n",
       "4    4.0       1      0     1   \n",
       "\n",
       "                                                text                 date  \n",
       "0  If you decide to eat here, just be aware it is...  2018-07-07 22:09:11  \n",
       "1  I've taken a lot of spin classes over the year...  2012-01-03 15:28:18  \n",
       "2  Family diner. Had the buffet. Eclectic assortm...  2014-02-05 20:30:30  \n",
       "3  Wow!  Yummy, different,  delicious.   Our favo...  2015-01-04 00:01:03  \n",
       "4  Cute interior and owner (?) gave us tour of up...  2017-01-14 20:54:15  "
      ]
     },
     "execution_count": 4,
     "metadata": {},
     "output_type": "execute_result"
    }
   ],
   "source": [
    "review.head()"
   ]
  },
  {
   "cell_type": "code",
   "execution_count": 5,
   "id": "f268f81d",
   "metadata": {},
   "outputs": [],
   "source": [
    "#Dropping unnecessary columns in review file.\n",
    "review.to_csv('./output_csv/review.csv',index = False)"
   ]
  },
  {
   "cell_type": "markdown",
   "id": "4549a056",
   "metadata": {},
   "source": [
    "# Fetching from csv\n"
   ]
  },
  {
   "cell_type": "code",
   "execution_count": 2,
   "id": "3e4e94ce",
   "metadata": {},
   "outputs": [],
   "source": [
    "review = pd.read_csv('./output_csv/review.csv')\n",
    "business = pd.read_csv('./output_csv/business_PA_clean_tour.csv')"
   ]
  },
  {
   "cell_type": "markdown",
   "id": "f3f8da99",
   "metadata": {},
   "source": [
    "##### Getting only the reviews of food category restraurants in PA state"
   ]
  },
  {
   "cell_type": "code",
   "execution_count": 3,
   "id": "82697a7c",
   "metadata": {},
   "outputs": [],
   "source": [
    "business_id_ls = business.business_id.unique()"
   ]
  },
  {
   "cell_type": "code",
   "execution_count": 20,
   "id": "7746e965",
   "metadata": {},
   "outputs": [],
   "source": [
    "review_index = []\n",
    "for i in range(review.shape[0]):\n",
    "    if review.business_id[i] in business_id_ls:\n",
    "        review_index.append(i)"
   ]
  },
  {
   "cell_type": "code",
   "execution_count": 21,
   "id": "089c1b34",
   "metadata": {},
   "outputs": [],
   "source": [
    "review = review.iloc[review_index,:]"
   ]
  },
  {
   "cell_type": "code",
   "execution_count": 6,
   "id": "5262a1c2",
   "metadata": {},
   "outputs": [
    {
     "data": {
      "text/html": [
       "<div>\n",
       "<style scoped>\n",
       "    .dataframe tbody tr th:only-of-type {\n",
       "        vertical-align: middle;\n",
       "    }\n",
       "\n",
       "    .dataframe tbody tr th {\n",
       "        vertical-align: top;\n",
       "    }\n",
       "\n",
       "    .dataframe thead th {\n",
       "        text-align: right;\n",
       "    }\n",
       "</style>\n",
       "<table border=\"1\" class=\"dataframe\">\n",
       "  <thead>\n",
       "    <tr style=\"text-align: right;\">\n",
       "      <th></th>\n",
       "      <th>review_id</th>\n",
       "      <th>user_id</th>\n",
       "      <th>business_id</th>\n",
       "      <th>stars</th>\n",
       "      <th>useful</th>\n",
       "      <th>funny</th>\n",
       "      <th>cool</th>\n",
       "      <th>text</th>\n",
       "      <th>date</th>\n",
       "    </tr>\n",
       "  </thead>\n",
       "  <tbody>\n",
       "    <tr>\n",
       "      <th>6</th>\n",
       "      <td>6AxgBCNX_PNTOxmbRSwcKQ</td>\n",
       "      <td>r3zeYsv1XFBRA4dJpL78cw</td>\n",
       "      <td>gmjsEdUsKpj9Xxu6pdjH0g</td>\n",
       "      <td>5.0</td>\n",
       "      <td>0</td>\n",
       "      <td>2</td>\n",
       "      <td>0</td>\n",
       "      <td>Loved this tour! I grabbed a groupon and the p...</td>\n",
       "      <td>2015-01-03 23:21:18</td>\n",
       "    </tr>\n",
       "    <tr>\n",
       "      <th>22</th>\n",
       "      <td>J-4NdnDZ0pUQaUEEwDI9KQ</td>\n",
       "      <td>vrKkXsozqqecF3CW4cGaVQ</td>\n",
       "      <td>rjuWz_AD3WfXJc03AhIO_w</td>\n",
       "      <td>5.0</td>\n",
       "      <td>2</td>\n",
       "      <td>2</td>\n",
       "      <td>2</td>\n",
       "      <td>I thoroughly enjoyed the show.  Chill way to s...</td>\n",
       "      <td>2012-12-04 16:46:20</td>\n",
       "    </tr>\n",
       "    <tr>\n",
       "      <th>37</th>\n",
       "      <td>pHwbdway4yeI-dSSmZA7-Q</td>\n",
       "      <td>qEEk0PuoH1dVa619t8fgpw</td>\n",
       "      <td>PY9GRfzr4nTZeINf346QOw</td>\n",
       "      <td>4.0</td>\n",
       "      <td>0</td>\n",
       "      <td>0</td>\n",
       "      <td>0</td>\n",
       "      <td>We checked in around 2:30 pm.  Check-in was qu...</td>\n",
       "      <td>2017-09-20 16:16:47</td>\n",
       "    </tr>\n",
       "    <tr>\n",
       "      <th>46</th>\n",
       "      <td>Ki90-hauSIfW_7sBuBBqfA</td>\n",
       "      <td>Z2cOL3n9V8NoguJ-uU_Nvw</td>\n",
       "      <td>j8JOZvfeHEfUWq3gEz6ABQ</td>\n",
       "      <td>2.0</td>\n",
       "      <td>2</td>\n",
       "      <td>3</td>\n",
       "      <td>0</td>\n",
       "      <td>NEVER AGAIN. This is a so called restaurant th...</td>\n",
       "      <td>2014-06-11 14:55:14</td>\n",
       "    </tr>\n",
       "    <tr>\n",
       "      <th>70</th>\n",
       "      <td>HuWEnZr7-0HveaqXxyywgg</td>\n",
       "      <td>Eb8LgZArKmW0KgW6lTni-w</td>\n",
       "      <td>YbnJYHNp_fHbI-hcFg48vQ</td>\n",
       "      <td>5.0</td>\n",
       "      <td>2</td>\n",
       "      <td>0</td>\n",
       "      <td>2</td>\n",
       "      <td>The kayaking tour at the Santa Cruz Island was...</td>\n",
       "      <td>2009-08-03 21:55:27</td>\n",
       "    </tr>\n",
       "  </tbody>\n",
       "</table>\n",
       "</div>"
      ],
      "text/plain": [
       "                 review_id                 user_id             business_id  \\\n",
       "6   6AxgBCNX_PNTOxmbRSwcKQ  r3zeYsv1XFBRA4dJpL78cw  gmjsEdUsKpj9Xxu6pdjH0g   \n",
       "22  J-4NdnDZ0pUQaUEEwDI9KQ  vrKkXsozqqecF3CW4cGaVQ  rjuWz_AD3WfXJc03AhIO_w   \n",
       "37  pHwbdway4yeI-dSSmZA7-Q  qEEk0PuoH1dVa619t8fgpw  PY9GRfzr4nTZeINf346QOw   \n",
       "46  Ki90-hauSIfW_7sBuBBqfA  Z2cOL3n9V8NoguJ-uU_Nvw  j8JOZvfeHEfUWq3gEz6ABQ   \n",
       "70  HuWEnZr7-0HveaqXxyywgg  Eb8LgZArKmW0KgW6lTni-w  YbnJYHNp_fHbI-hcFg48vQ   \n",
       "\n",
       "    stars  useful  funny  cool  \\\n",
       "6     5.0       0      2     0   \n",
       "22    5.0       2      2     2   \n",
       "37    4.0       0      0     0   \n",
       "46    2.0       2      3     0   \n",
       "70    5.0       2      0     2   \n",
       "\n",
       "                                                 text                 date  \n",
       "6   Loved this tour! I grabbed a groupon and the p...  2015-01-03 23:21:18  \n",
       "22  I thoroughly enjoyed the show.  Chill way to s...  2012-12-04 16:46:20  \n",
       "37  We checked in around 2:30 pm.  Check-in was qu...  2017-09-20 16:16:47  \n",
       "46  NEVER AGAIN. This is a so called restaurant th...  2014-06-11 14:55:14  \n",
       "70  The kayaking tour at the Santa Cruz Island was...  2009-08-03 21:55:27  "
      ]
     },
     "execution_count": 6,
     "metadata": {},
     "output_type": "execute_result"
    }
   ],
   "source": [
    "review.head()"
   ]
  },
  {
   "cell_type": "code",
   "execution_count": 7,
   "id": "cb1d503b",
   "metadata": {},
   "outputs": [
    {
     "data": {
      "text/plain": [
       "(336301, 9)"
      ]
     },
     "execution_count": 7,
     "metadata": {},
     "output_type": "execute_result"
    }
   ],
   "source": [
    "review.shape"
   ]
  },
  {
   "cell_type": "code",
   "execution_count": 8,
   "id": "12b1d2da",
   "metadata": {},
   "outputs": [],
   "source": [
    "yr_ls = [eval(x.split('-')[0]) for x in review.date]\n",
    "review['year'] = yr_ls"
   ]
  },
  {
   "cell_type": "code",
   "execution_count": 9,
   "id": "bb12d19a",
   "metadata": {},
   "outputs": [],
   "source": [
    "review = review.reset_index(drop = True)"
   ]
  },
  {
   "cell_type": "code",
   "execution_count": 10,
   "id": "c3c6a885",
   "metadata": {},
   "outputs": [
    {
     "data": {
      "text/html": [
       "<div>\n",
       "<style scoped>\n",
       "    .dataframe tbody tr th:only-of-type {\n",
       "        vertical-align: middle;\n",
       "    }\n",
       "\n",
       "    .dataframe tbody tr th {\n",
       "        vertical-align: top;\n",
       "    }\n",
       "\n",
       "    .dataframe thead th {\n",
       "        text-align: right;\n",
       "    }\n",
       "</style>\n",
       "<table border=\"1\" class=\"dataframe\">\n",
       "  <thead>\n",
       "    <tr style=\"text-align: right;\">\n",
       "      <th></th>\n",
       "      <th>review_id</th>\n",
       "      <th>user_id</th>\n",
       "      <th>business_id</th>\n",
       "      <th>stars</th>\n",
       "      <th>useful</th>\n",
       "      <th>funny</th>\n",
       "      <th>cool</th>\n",
       "      <th>text</th>\n",
       "      <th>date</th>\n",
       "      <th>year</th>\n",
       "    </tr>\n",
       "  </thead>\n",
       "  <tbody>\n",
       "    <tr>\n",
       "      <th>0</th>\n",
       "      <td>6AxgBCNX_PNTOxmbRSwcKQ</td>\n",
       "      <td>r3zeYsv1XFBRA4dJpL78cw</td>\n",
       "      <td>gmjsEdUsKpj9Xxu6pdjH0g</td>\n",
       "      <td>5.0</td>\n",
       "      <td>0</td>\n",
       "      <td>2</td>\n",
       "      <td>0</td>\n",
       "      <td>Loved this tour! I grabbed a groupon and the p...</td>\n",
       "      <td>2015-01-03 23:21:18</td>\n",
       "      <td>2015</td>\n",
       "    </tr>\n",
       "    <tr>\n",
       "      <th>1</th>\n",
       "      <td>J-4NdnDZ0pUQaUEEwDI9KQ</td>\n",
       "      <td>vrKkXsozqqecF3CW4cGaVQ</td>\n",
       "      <td>rjuWz_AD3WfXJc03AhIO_w</td>\n",
       "      <td>5.0</td>\n",
       "      <td>2</td>\n",
       "      <td>2</td>\n",
       "      <td>2</td>\n",
       "      <td>I thoroughly enjoyed the show.  Chill way to s...</td>\n",
       "      <td>2012-12-04 16:46:20</td>\n",
       "      <td>2012</td>\n",
       "    </tr>\n",
       "    <tr>\n",
       "      <th>2</th>\n",
       "      <td>pHwbdway4yeI-dSSmZA7-Q</td>\n",
       "      <td>qEEk0PuoH1dVa619t8fgpw</td>\n",
       "      <td>PY9GRfzr4nTZeINf346QOw</td>\n",
       "      <td>4.0</td>\n",
       "      <td>0</td>\n",
       "      <td>0</td>\n",
       "      <td>0</td>\n",
       "      <td>We checked in around 2:30 pm.  Check-in was qu...</td>\n",
       "      <td>2017-09-20 16:16:47</td>\n",
       "      <td>2017</td>\n",
       "    </tr>\n",
       "    <tr>\n",
       "      <th>3</th>\n",
       "      <td>Ki90-hauSIfW_7sBuBBqfA</td>\n",
       "      <td>Z2cOL3n9V8NoguJ-uU_Nvw</td>\n",
       "      <td>j8JOZvfeHEfUWq3gEz6ABQ</td>\n",
       "      <td>2.0</td>\n",
       "      <td>2</td>\n",
       "      <td>3</td>\n",
       "      <td>0</td>\n",
       "      <td>NEVER AGAIN. This is a so called restaurant th...</td>\n",
       "      <td>2014-06-11 14:55:14</td>\n",
       "      <td>2014</td>\n",
       "    </tr>\n",
       "    <tr>\n",
       "      <th>4</th>\n",
       "      <td>HuWEnZr7-0HveaqXxyywgg</td>\n",
       "      <td>Eb8LgZArKmW0KgW6lTni-w</td>\n",
       "      <td>YbnJYHNp_fHbI-hcFg48vQ</td>\n",
       "      <td>5.0</td>\n",
       "      <td>2</td>\n",
       "      <td>0</td>\n",
       "      <td>2</td>\n",
       "      <td>The kayaking tour at the Santa Cruz Island was...</td>\n",
       "      <td>2009-08-03 21:55:27</td>\n",
       "      <td>2009</td>\n",
       "    </tr>\n",
       "  </tbody>\n",
       "</table>\n",
       "</div>"
      ],
      "text/plain": [
       "                review_id                 user_id             business_id  \\\n",
       "0  6AxgBCNX_PNTOxmbRSwcKQ  r3zeYsv1XFBRA4dJpL78cw  gmjsEdUsKpj9Xxu6pdjH0g   \n",
       "1  J-4NdnDZ0pUQaUEEwDI9KQ  vrKkXsozqqecF3CW4cGaVQ  rjuWz_AD3WfXJc03AhIO_w   \n",
       "2  pHwbdway4yeI-dSSmZA7-Q  qEEk0PuoH1dVa619t8fgpw  PY9GRfzr4nTZeINf346QOw   \n",
       "3  Ki90-hauSIfW_7sBuBBqfA  Z2cOL3n9V8NoguJ-uU_Nvw  j8JOZvfeHEfUWq3gEz6ABQ   \n",
       "4  HuWEnZr7-0HveaqXxyywgg  Eb8LgZArKmW0KgW6lTni-w  YbnJYHNp_fHbI-hcFg48vQ   \n",
       "\n",
       "   stars  useful  funny  cool  \\\n",
       "0    5.0       0      2     0   \n",
       "1    5.0       2      2     2   \n",
       "2    4.0       0      0     0   \n",
       "3    2.0       2      3     0   \n",
       "4    5.0       2      0     2   \n",
       "\n",
       "                                                text                 date  \\\n",
       "0  Loved this tour! I grabbed a groupon and the p...  2015-01-03 23:21:18   \n",
       "1  I thoroughly enjoyed the show.  Chill way to s...  2012-12-04 16:46:20   \n",
       "2  We checked in around 2:30 pm.  Check-in was qu...  2017-09-20 16:16:47   \n",
       "3  NEVER AGAIN. This is a so called restaurant th...  2014-06-11 14:55:14   \n",
       "4  The kayaking tour at the Santa Cruz Island was...  2009-08-03 21:55:27   \n",
       "\n",
       "   year  \n",
       "0  2015  \n",
       "1  2012  \n",
       "2  2017  \n",
       "3  2014  \n",
       "4  2009  "
      ]
     },
     "execution_count": 10,
     "metadata": {},
     "output_type": "execute_result"
    }
   ],
   "source": [
    "review.head()"
   ]
  },
  {
   "cell_type": "code",
   "execution_count": 11,
   "id": "609c8e21",
   "metadata": {},
   "outputs": [
    {
     "data": {
      "text/plain": [
       "(336301, 10)"
      ]
     },
     "execution_count": 11,
     "metadata": {},
     "output_type": "execute_result"
    }
   ],
   "source": [
    "review.shape"
   ]
  },
  {
   "cell_type": "code",
   "execution_count": 12,
   "id": "c4565500",
   "metadata": {},
   "outputs": [],
   "source": [
    "review = review.drop(columns = ['useful','funny','cool','date','text'])\n",
    "review['stars'] = review['stars'].astype(int)"
   ]
  },
  {
   "cell_type": "code",
   "execution_count": 13,
   "id": "403416ce",
   "metadata": {},
   "outputs": [],
   "source": [
    "#WRITE THE FILE INTO CSV FORMAT\n",
    "review.to_csv('./output_csv/review_PA_clean_tour.csv',index = False)"
   ]
  },
  {
   "cell_type": "markdown",
   "id": "eea39ba0",
   "metadata": {},
   "source": [
    "##### Getting Only Philly reviews"
   ]
  },
  {
   "cell_type": "code",
   "execution_count": 14,
   "id": "a00bee7f",
   "metadata": {},
   "outputs": [],
   "source": [
    "review = pd.read_csv('./output_csv/review_PA_clean_tour.csv')\n",
    "business = pd.read_csv('./output_csv/business_PA_Philly_clean_tour.csv')"
   ]
  },
  {
   "cell_type": "code",
   "execution_count": 15,
   "id": "40eadb8e",
   "metadata": {},
   "outputs": [],
   "source": [
    "business_id_ls = business.business_id.unique()"
   ]
  },
  {
   "cell_type": "code",
   "execution_count": 16,
   "id": "3ea11d1e",
   "metadata": {},
   "outputs": [],
   "source": [
    "review_index = []\n",
    "for i in range(review.shape[0]):\n",
    "    if review.business_id[i] in business_id_ls:\n",
    "        review_index.append(i)"
   ]
  },
  {
   "cell_type": "code",
   "execution_count": 17,
   "id": "4442cfbd",
   "metadata": {},
   "outputs": [],
   "source": [
    "review = review.iloc[review_index,:]"
   ]
  },
  {
   "cell_type": "code",
   "execution_count": 18,
   "id": "336d709a",
   "metadata": {},
   "outputs": [],
   "source": [
    "review = review.reset_index(drop = True)"
   ]
  },
  {
   "cell_type": "code",
   "execution_count": 19,
   "id": "29265a45",
   "metadata": {},
   "outputs": [],
   "source": [
    "#WRITE THE FILE INTO CSV FORMAT\n",
    "review.to_csv('./output_csv/review_PA_Philly_clean_tour.csv',index = False)"
   ]
  },
  {
   "cell_type": "code",
   "execution_count": null,
   "id": "9d7aa6b2",
   "metadata": {},
   "outputs": [],
   "source": []
  }
 ],
 "metadata": {
  "kernelspec": {
   "display_name": "Python 3 (ipykernel)",
   "language": "python",
   "name": "python3"
  },
  "language_info": {
   "codemirror_mode": {
    "name": "ipython",
    "version": 3
   },
   "file_extension": ".py",
   "mimetype": "text/x-python",
   "name": "python",
   "nbconvert_exporter": "python",
   "pygments_lexer": "ipython3",
   "version": "3.9.7"
  }
 },
 "nbformat": 4,
 "nbformat_minor": 5
}
